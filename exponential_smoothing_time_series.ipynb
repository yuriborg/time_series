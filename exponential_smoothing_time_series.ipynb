{
  "nbformat": 4,
  "nbformat_minor": 0,
  "metadata": {
    "colab": {
      "provenance": [],
      "authorship_tag": "ABX9TyObisD1FTv1ce9XtBMi0LsN",
      "include_colab_link": true
    },
    "kernelspec": {
      "name": "python3",
      "display_name": "Python 3"
    },
    "language_info": {
      "name": "python"
    }
  },
  "cells": [
    {
      "cell_type": "markdown",
      "metadata": {
        "id": "view-in-github",
        "colab_type": "text"
      },
      "source": [
        "<a href=\"https://colab.research.google.com/github/yuriborg/time_series/blob/main/exponential_smoothing_time_series.ipynb\" target=\"_parent\"><img src=\"https://colab.research.google.com/assets/colab-badge.svg\" alt=\"Open In Colab\"/></a>"
      ]
    },
    {
      "cell_type": "markdown",
      "source": [
        "# Exponential Smoothing\n",
        "\n",
        "  - Exponential smoothing is a time series forecasting method for univariate data that can be extended to support data with a systematic trend or seasonal component.\n",
        "\n",
        "    - Exponential smoothing forecasting methods are similar in that a prediction is a weighted sum of past observations, but the model explicitly uses an exponentially decreasing weight for past observations."
      ],
      "metadata": {
        "id": "XvLDebpkc5Cf"
      }
    },
    {
      "cell_type": "markdown",
      "source": [
        "In other words:\n",
        "\n",
        "  - \"Forecasts produced using exponential smoothing methods are weighted averages of past observations, with the weights decaying exponentially as the observations get older. In other words, the more recent the observation the higher the associated weight.\"\n",
        "\n",
        "                       Page 171, Forecasting: principles and practice, 2013.\n",
        "\n",
        "\n",
        "\n",
        "Collectively, the methods are sometimes referred to as ETS models, referring to the explicit modeling of Error, Trend and Seasonality."
      ],
      "metadata": {
        "id": "Zhe8QgAqdTa1"
      }
    },
    {
      "cell_type": "markdown",
      "source": [
        "# Exponential Smoothing Types"
      ],
      "metadata": {
        "id": "oJ2lE3AJdjBU"
      }
    },
    {
      "cell_type": "markdown",
      "source": [
        "## Single Exponential Smoothing\n",
        "\n",
        "\n",
        "  - Single Exponential Smoothing, SES for short, also called Simple Exponential Smoothing, is a time series forecasting method for univariate data without a trend or seasonality.It requires a single parameter, called alpha ($\\alpha$), also called the smoothing factor or smoothing coefficient.\n",
        "\n",
        "  - This parameter controls the rate at which the influence of the observations at prior time steps decay exponentially. Alpha is often set to a value between 0 and 1. Large values mean that the model pays attention mainly to the most recent past observations, whereas smaller values mean more of the history is taken into account when making a prediction.\n",
        "\n",
        "  - A value close to 1 indicates fast learning (that is, only the most recent values influence the forecasts), whereas a value close to 0 indicates slow learning (past observations have a large influence on forecasts)."
      ],
      "metadata": {
        "id": "lYlc7r1Mdmes"
      }
    },
    {
      "cell_type": "markdown",
      "source": [
        "$Hyperparameters:$  $alpha (\\alpha)$"
      ],
      "metadata": {
        "id": "JIls4lkhfArM"
      }
    },
    {
      "cell_type": "code",
      "source": [
        "# single exponential smoothing\n",
        "...\n",
        "from statsmodels.tsa.holtwinters import SimpleExpSmoothing\n",
        "# prepare data\n",
        "data = ...\n",
        "# create class\n",
        "model = SimpleExpSmoothing(data)\n",
        "# fit model\n",
        "model_fit = model.fit(...)\n",
        "# make prediction\n",
        "yhat = model_fit.predict(...)"
      ],
      "metadata": {
        "id": "KjO7BlZphuLl"
      },
      "execution_count": null,
      "outputs": []
    },
    {
      "cell_type": "markdown",
      "source": [
        "## Double Exponential Smoothing\n",
        "\n",
        "  Double Exponential Smoothing is an extension to Exponential Smoothing that explicitly adds support for trends in the univariate time series.\n",
        "\n",
        "  In addition to the alpha parameter for controlling smoothing factor for the level, an additional smoothing factor is added to control the decay of the influence of the change in trend called beta ($ \\beta$).\n",
        "\n",
        "  The method supports trends that change in different ways: an additive and a multiplicative, depending on whether the trend is linear or exponential respectively.\n",
        "\n",
        "  - Double Exponential Smoothing with an additive trend is classically referred to as $Holt's$ $Linear$ $Trend$ $Model$, named for the developer of the $Method$ $Charles$ $Holt$.\n",
        "\n",
        "    - Additive Trend: Double Exponential Smoothing with a linear trend.\n",
        "    - Multiplicative Trend: Double Exponential Smoothing with an exponential trend.\n",
        "\n",
        "For longer range (multi-step) forecasts, the trend may continue on unrealistically. As such, it can be useful to dampen the trend over time.\n",
        "\n",
        "Dampening means reducing the size of the trend over future time steps down to a straight line (no trend).\n",
        "\n",
        "The forecasts generated by Holt’s linear method display a constant trend (increasing or decreasing) indecently into the future. Even more extreme are the forecasts generated by the exponential trend method\n",
        "\n",
        "As with modeling the trend itself, we can use the same principles in dampening the trend, specifically additively or multiplicatively for a linear or exponential dampening effect. A damping coefficient Phi (p) is used to control the rate of dampening.\n",
        "\n",
        "    - Additive Dampening: Dampen a trend linearly.\n",
        "    - Multiplicative Dampening: Dampen the trend exponentially.\n",
        "\n",
        "\n",
        "Hyperparameters:\n",
        "\n",
        "  - Alpha: Smoothing factor for the level.\n",
        "  - Beta: Smoothing factor for the trend.\n",
        "  - Trend Type: Additive or multiplicative.\n",
        "  - Dampen Type: Additive or multiplicative.\n",
        "  - Phi: Damping coefficient."
      ],
      "metadata": {
        "id": "J6gFqMJVe2O1"
      }
    },
    {
      "cell_type": "markdown",
      "source": [
        "## Triple Exponential Smoothing\n",
        "\n",
        "Triple Exponential Smoothing is an extension of Exponential Smoothing that explicitly adds support for seasonality to the univariate time series.\n",
        "\n",
        "This method is sometimes called Holt-Winters Exponential Smoothing, named for two contributors to the method: Charles Holt and Peter Winters.\n",
        "\n",
        "In addition to the alpha and beta smoothing factors, a new parameter is added called gamma (g) that controls the influence on the seasonal component.\n",
        "\n",
        "As with the trend, the seasonality may be modeled as either an additive or multiplicative process for a linear or exponential change in the seasonality.\n",
        "\n",
        "    - Additive Seasonality: Triple Exponential Smoothing with a linear seasonality.\n",
        "    - Multiplicative Seasonality: Triple Exponential Smoothing with an exponential seasonality.\n",
        "\n",
        "\n",
        "Triple exponential smoothing is the most advanced variation of exponential smoothing and through configuration, it can also develop double and single exponential smoothing models.\n",
        "\n",
        "Additionally, to ensure that the seasonality is modeled correctly, the number of time steps in a seasonal period (Period) must be specified. For example, if the series was monthly data and the seasonal period repeated each year, then the Period=12.\n",
        "\n",
        "\n",
        "Hyperparameters:\n",
        "\n",
        "  - Alpha: Smoothing factor for the level.\n",
        "  - Beta: Smoothing factor for the trend.\n",
        "  - Gamma: Smoothing factor for the seasonality.\n",
        "  - Trend Type: Additive or multiplicative.\n",
        "  - Dampen Type: Additive or multiplicative.\n",
        "  - Phi: Damping coefficient.\n",
        "  - Seasonality Type: Additive or multiplicative.\n",
        "  - Period: Time steps in seasonal period."
      ],
      "metadata": {
        "id": "a6fn-Zjsg6VF"
      }
    },
    {
      "cell_type": "code",
      "execution_count": null,
      "metadata": {
        "id": "Dcc0BBNwcG8v"
      },
      "outputs": [],
      "source": [
        "# double or triple exponential smoothing\n",
        "...\n",
        "from statsmodels.tsa.holtwinters import ExponentialSmoothing\n",
        "# prepare data\n",
        "data = ...\n",
        "# create class\n",
        "model = ExponentialSmoothing(data, ...)\n",
        "# fit model\n",
        "model_fit = model.fit(...)\n",
        "# make prediction\n",
        "yhat = model_fit.predict(...)"
      ]
    }
  ]
}